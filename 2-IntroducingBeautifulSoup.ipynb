{
 "cells": [
  {
   "cell_type": "code",
   "execution_count": 1,
   "metadata": {},
   "outputs": [],
   "source": [
    "#!pip install BeautifulSoup4"
   ]
  },
  {
   "cell_type": "code",
   "execution_count": 2,
   "metadata": {},
   "outputs": [],
   "source": [
    "#!pip install lxml"
   ]
  },
  {
   "cell_type": "code",
   "execution_count": 3,
   "metadata": {},
   "outputs": [],
   "source": [
    "#!pip install html5lib"
   ]
  },
  {
   "cell_type": "code",
   "execution_count": 1,
   "metadata": {},
   "outputs": [],
   "source": [
    "import requests\n",
    "import webbrowser\n",
    "\n",
    "import re\n",
    "\n",
    "from bs4 import BeautifulSoup\n",
    "\n",
    "from pprint import pprint"
   ]
  },
  {
   "cell_type": "code",
   "execution_count": 2,
   "metadata": {},
   "outputs": [],
   "source": [
    "very_simple_html = \"\"\"\n",
    "\n",
    "<html>\n",
    "    <head>\n",
    "        <title>The Dormouse's story</title>\n",
    "    </head>\n",
    "<body>\n",
    "<p class=\"title\">\n",
    "    <b>The Dormouse's story</b>\n",
    "</p>\n",
    "\n",
    "<p class=\"story\">\n",
    "Once upon a time there were three little sisters; and their names were:\n",
    "\n",
    "    <a href=\"http://example.com/elsie\" class=\"sister\" id=\"link1\">Elsie</a>,\n",
    "    <a href=\"http://example.com/lacie\" class=\"sister\" id=\"link2\">Lacie</a> and\n",
    "    <a href=\"http://example.com/tillie\" class=\"sister\" id=\"link3\">Tillie</a>;\n",
    "\n",
    "and they lived at the bottom of a well.\n",
    "</p>\n",
    "\n",
    "<p class=\"story\">The story continues</p>\n",
    "</body>\n",
    "</html>\n",
    "\"\"\""
   ]
  },
  {
   "cell_type": "code",
   "execution_count": 3,
   "metadata": {},
   "outputs": [
    {
     "name": "stdout",
     "output_type": "stream",
     "text": [
      "('\\n'\n",
      " '\\n'\n",
      " '<html>\\n'\n",
      " '    <head>\\n'\n",
      " \"        <title>The Dormouse's story</title>\\n\"\n",
      " '    </head>\\n'\n",
      " '<body>\\n'\n",
      " '<p class=\"title\">\\n'\n",
      " \"    <b>The Dormouse's story</b>\\n\"\n",
      " '</p>\\n'\n",
      " '\\n'\n",
      " '<p class=\"story\">\\n'\n",
      " 'Once upon a time there were three little sisters; and their names were:\\n'\n",
      " '\\n'\n",
      " '    <a href=\"http://example.com/elsie\" class=\"sister\" id=\"link1\">Elsie</a>,\\n'\n",
      " '    <a href=\"http://example.com/lacie\" class=\"sister\" id=\"link2\">Lacie</a> '\n",
      " 'and\\n'\n",
      " '    <a href=\"http://example.com/tillie\" class=\"sister\" '\n",
      " 'id=\"link3\">Tillie</a>;\\n'\n",
      " '\\n'\n",
      " 'and they lived at the bottom of a well.\\n'\n",
      " '</p>\\n'\n",
      " '\\n'\n",
      " '<p class=\"story\">The story continues</p>\\n'\n",
      " '</body>\\n'\n",
      " '</html>\\n')\n"
     ]
    }
   ],
   "source": [
    "pprint(very_simple_html)"
   ]
  },
  {
   "cell_type": "code",
   "execution_count": 4,
   "metadata": {},
   "outputs": [
    {
     "data": {
      "text/plain": [
       "<html>\n",
       "<head>\n",
       "<title>The Dormouse's story</title>\n",
       "</head>\n",
       "<body>\n",
       "<p class=\"title\">\n",
       "<b>The Dormouse's story</b>\n",
       "</p>\n",
       "<p class=\"story\">\n",
       "Once upon a time there were three little sisters; and their names were:\n",
       "\n",
       "    <a class=\"sister\" href=\"http://example.com/elsie\" id=\"link1\">Elsie</a>,\n",
       "    <a class=\"sister\" href=\"http://example.com/lacie\" id=\"link2\">Lacie</a> and\n",
       "    <a class=\"sister\" href=\"http://example.com/tillie\" id=\"link3\">Tillie</a>;\n",
       "\n",
       "and they lived at the bottom of a well.\n",
       "</p>\n",
       "<p class=\"story\">The story continues</p>\n",
       "</body>\n",
       "</html>"
      ]
     },
     "execution_count": 4,
     "metadata": {},
     "output_type": "execute_result"
    }
   ],
   "source": [
    "soup = BeautifulSoup(very_simple_html)\n",
    "soup"
   ]
  },
  {
   "cell_type": "code",
   "execution_count": 5,
   "metadata": {
    "scrolled": true
   },
   "outputs": [
    {
     "name": "stdout",
     "output_type": "stream",
     "text": [
      "<html>\n",
      " <head>\n",
      "  <title>\n",
      "   The Dormouse's story\n",
      "  </title>\n",
      " </head>\n",
      " <body>\n",
      "  <p class=\"title\">\n",
      "   <b>\n",
      "    The Dormouse's story\n",
      "   </b>\n",
      "  </p>\n",
      "  <p class=\"story\">\n",
      "   Once upon a time there were three little sisters; and their names were:\n",
      "   <a class=\"sister\" href=\"http://example.com/elsie\" id=\"link1\">\n",
      "    Elsie\n",
      "   </a>\n",
      "   ,\n",
      "   <a class=\"sister\" href=\"http://example.com/lacie\" id=\"link2\">\n",
      "    Lacie\n",
      "   </a>\n",
      "   and\n",
      "   <a class=\"sister\" href=\"http://example.com/tillie\" id=\"link3\">\n",
      "    Tillie\n",
      "   </a>\n",
      "   ;\n",
      "\n",
      "and they lived at the bottom of a well.\n",
      "  </p>\n",
      "  <p class=\"story\">\n",
      "   The story continues\n",
      "  </p>\n",
      " </body>\n",
      "</html>\n",
      "\n"
     ]
    }
   ],
   "source": [
    "print(soup.prettify())"
   ]
  },
  {
   "cell_type": "code",
   "execution_count": 6,
   "metadata": {},
   "outputs": [
    {
     "data": {
      "text/plain": [
       "<html>\n",
       "<head>\n",
       "<title>The Dormouse's story</title>\n",
       "</head>\n",
       "<body>\n",
       "<p class=\"title\">\n",
       "<b>The Dormouse's story</b>\n",
       "</p>\n",
       "<p class=\"story\">\n",
       "Once upon a time there were three little sisters; and their names were:\n",
       "\n",
       "    <a class=\"sister\" href=\"http://example.com/elsie\" id=\"link1\">Elsie</a>,\n",
       "    <a class=\"sister\" href=\"http://example.com/lacie\" id=\"link2\">Lacie</a> and\n",
       "    <a class=\"sister\" href=\"http://example.com/tillie\" id=\"link3\">Tillie</a>;\n",
       "\n",
       "and they lived at the bottom of a well.\n",
       "</p>\n",
       "<p class=\"story\">The story continues</p>\n",
       "</body>\n",
       "</html>"
      ]
     },
     "execution_count": 6,
     "metadata": {},
     "output_type": "execute_result"
    }
   ],
   "source": [
    "soup.html"
   ]
  },
  {
   "cell_type": "code",
   "execution_count": 7,
   "metadata": {},
   "outputs": [
    {
     "data": {
      "text/plain": [
       "<head>\n",
       "<title>The Dormouse's story</title>\n",
       "</head>"
      ]
     },
     "execution_count": 7,
     "metadata": {},
     "output_type": "execute_result"
    }
   ],
   "source": [
    "soup.head"
   ]
  },
  {
   "cell_type": "code",
   "execution_count": 8,
   "metadata": {},
   "outputs": [
    {
     "data": {
      "text/plain": [
       "<title>The Dormouse's story</title>"
      ]
     },
     "execution_count": 8,
     "metadata": {},
     "output_type": "execute_result"
    }
   ],
   "source": [
    "soup.title"
   ]
  },
  {
   "cell_type": "code",
   "execution_count": 9,
   "metadata": {
    "scrolled": true
   },
   "outputs": [
    {
     "data": {
      "text/plain": [
       "\"The Dormouse's story\""
      ]
     },
     "execution_count": 9,
     "metadata": {},
     "output_type": "execute_result"
    }
   ],
   "source": [
    "soup.title.text"
   ]
  },
  {
   "cell_type": "code",
   "execution_count": 10,
   "metadata": {},
   "outputs": [
    {
     "data": {
      "text/plain": [
       "str"
      ]
     },
     "execution_count": 10,
     "metadata": {},
     "output_type": "execute_result"
    }
   ],
   "source": [
    "type(soup.title.text)"
   ]
  },
  {
   "cell_type": "code",
   "execution_count": 11,
   "metadata": {},
   "outputs": [
    {
     "data": {
      "text/plain": [
       "<body>\n",
       "<p class=\"title\">\n",
       "<b>The Dormouse's story</b>\n",
       "</p>\n",
       "<p class=\"story\">\n",
       "Once upon a time there were three little sisters; and their names were:\n",
       "\n",
       "    <a class=\"sister\" href=\"http://example.com/elsie\" id=\"link1\">Elsie</a>,\n",
       "    <a class=\"sister\" href=\"http://example.com/lacie\" id=\"link2\">Lacie</a> and\n",
       "    <a class=\"sister\" href=\"http://example.com/tillie\" id=\"link3\">Tillie</a>;\n",
       "\n",
       "and they lived at the bottom of a well.\n",
       "</p>\n",
       "<p class=\"story\">The story continues</p>\n",
       "</body>"
      ]
     },
     "execution_count": 11,
     "metadata": {},
     "output_type": "execute_result"
    }
   ],
   "source": [
    "soup.body"
   ]
  },
  {
   "cell_type": "code",
   "execution_count": 12,
   "metadata": {},
   "outputs": [
    {
     "data": {
      "text/plain": [
       "<html>\n",
       "<head>\n",
       "<title>The Dormouse's story</title>\n",
       "</head>\n",
       "<body>\n",
       "<p class=\"title\">\n",
       "<b>The Dormouse's story</b>\n",
       "</p>\n",
       "<p class=\"story\">\n",
       "Once upon a time there were three little sisters; and their names were:\n",
       "\n",
       "    <a class=\"sister\" href=\"http://example.com/elsie\" id=\"link1\">Elsie</a>,\n",
       "    <a class=\"sister\" href=\"http://example.com/lacie\" id=\"link2\">Lacie</a> and\n",
       "    <a class=\"sister\" href=\"http://example.com/tillie\" id=\"link3\">Tillie</a>;\n",
       "\n",
       "and they lived at the bottom of a well.\n",
       "</p>\n",
       "<p class=\"story\">The story continues</p>\n",
       "</body>\n",
       "</html>"
      ]
     },
     "execution_count": 12,
     "metadata": {},
     "output_type": "execute_result"
    }
   ],
   "source": [
    "soup"
   ]
  },
  {
   "cell_type": "code",
   "execution_count": 28,
   "metadata": {},
   "outputs": [
    {
     "data": {
      "text/plain": [
       "<p class=\"title\">\n",
       "<b>The Dormouse's story</b>\n",
       "</p>"
      ]
     },
     "execution_count": 28,
     "metadata": {},
     "output_type": "execute_result"
    }
   ],
   "source": [
    "soup.body.p"
   ]
  },
  {
   "cell_type": "code",
   "execution_count": 30,
   "metadata": {},
   "outputs": [
    {
     "data": {
      "text/plain": [
       "<p class=\"title\">\n",
       "<b>The Dormouse's story</b>\n",
       "</p>"
      ]
     },
     "execution_count": 30,
     "metadata": {},
     "output_type": "execute_result"
    }
   ],
   "source": [
    "soup.p"
   ]
  },
  {
   "cell_type": "code",
   "execution_count": 31,
   "metadata": {},
   "outputs": [
    {
     "data": {
      "text/plain": [
       "<b>The Dormouse's story</b>"
      ]
     },
     "execution_count": 31,
     "metadata": {},
     "output_type": "execute_result"
    }
   ],
   "source": [
    "soup.b"
   ]
  },
  {
   "cell_type": "code",
   "execution_count": 32,
   "metadata": {
    "scrolled": true
   },
   "outputs": [
    {
     "data": {
      "text/plain": [
       "<a class=\"sister\" href=\"http://example.com/elsie\" id=\"link1\">Elsie</a>"
      ]
     },
     "execution_count": 32,
     "metadata": {},
     "output_type": "execute_result"
    }
   ],
   "source": [
    "soup.a"
   ]
  },
  {
   "cell_type": "code",
   "execution_count": 33,
   "metadata": {
    "scrolled": true
   },
   "outputs": [
    {
     "name": "stdout",
     "output_type": "stream",
     "text": [
      "<html>\n",
      " <head>\n",
      "  <title>\n",
      "   The Dormouse's story\n",
      "  </title>\n",
      " </head>\n",
      " <body>\n",
      "  <p class=\"title\">\n",
      "   <b>\n",
      "    The Dormouse's story\n",
      "   </b>\n",
      "  </p>\n",
      "  <p class=\"story\">\n",
      "   Once upon a time there were three little sisters; and their names were:\n",
      "   <a class=\"sister\" href=\"http://example.com/elsie\" id=\"link1\">\n",
      "    Elsie\n",
      "   </a>\n",
      "   ,\n",
      "   <a class=\"sister\" href=\"http://example.com/lacie\" id=\"link2\">\n",
      "    Lacie\n",
      "   </a>\n",
      "   and\n",
      "   <a class=\"sister\" href=\"http://example.com/tillie\" id=\"link3\">\n",
      "    Tillie\n",
      "   </a>\n",
      "   ;\n",
      "\n",
      "and they lived at the bottom of a well.\n",
      "  </p>\n",
      "  <p class=\"story\">\n",
      "   The story continues\n",
      "  </p>\n",
      " </body>\n",
      "</html>\n",
      "\n"
     ]
    }
   ],
   "source": [
    "print(soup.prettify())"
   ]
  },
  {
   "cell_type": "code",
   "execution_count": 35,
   "metadata": {},
   "outputs": [
    {
     "data": {
      "text/plain": [
       "<p class=\"story\">\n",
       "Once upon a time there were three little sisters; and their names were:\n",
       "\n",
       "    <a class=\"sister\" href=\"http://example.com/elsie\" id=\"link1\">Elsie</a>,\n",
       "    <a class=\"sister\" href=\"http://example.com/lacie\" id=\"link2\">Lacie</a> and\n",
       "    <a class=\"sister\" href=\"http://example.com/tillie\" id=\"link3\">Tillie</a>;\n",
       "\n",
       "and they lived at the bottom of a well.\n",
       "</p>"
      ]
     },
     "execution_count": 35,
     "metadata": {},
     "output_type": "execute_result"
    }
   ],
   "source": [
    "soup.a.parent"
   ]
  },
  {
   "cell_type": "code",
   "execution_count": 37,
   "metadata": {},
   "outputs": [
    {
     "data": {
      "text/plain": [
       "<html>\n",
       "<head>\n",
       "<title>The Dormouse's story</title>\n",
       "</head>\n",
       "<body>\n",
       "<p class=\"title\">\n",
       "<b>The Dormouse's story</b>\n",
       "</p>\n",
       "<p class=\"story\">\n",
       "Once upon a time there were three little sisters; and their names were:\n",
       "\n",
       "    <a class=\"sister\" href=\"http://example.com/elsie\" id=\"link1\">Elsie</a>,\n",
       "    <a class=\"sister\" href=\"http://example.com/lacie\" id=\"link2\">Lacie</a> and\n",
       "    <a class=\"sister\" href=\"http://example.com/tillie\" id=\"link3\">Tillie</a>;\n",
       "\n",
       "and they lived at the bottom of a well.\n",
       "</p>\n",
       "<p class=\"story\">The story continues</p>\n",
       "</body>\n",
       "</html>"
      ]
     },
     "execution_count": 37,
     "metadata": {},
     "output_type": "execute_result"
    }
   ],
   "source": [
    "soup.a.parent.parent.parent"
   ]
  },
  {
   "cell_type": "code",
   "execution_count": 48,
   "metadata": {},
   "outputs": [],
   "source": [
    "## TODO: While recording please show the html page as well as the html code"
   ]
  },
  {
   "cell_type": "code",
   "execution_count": 38,
   "metadata": {},
   "outputs": [],
   "source": [
    "with open('files/TomJerry_WithImages.html') as html_code:\n",
    "    soup = BeautifulSoup(html_code, 'lxml')"
   ]
  },
  {
   "cell_type": "code",
   "execution_count": 50,
   "metadata": {},
   "outputs": [
    {
     "name": "stdout",
     "output_type": "stream",
     "text": [
      "<html>\n",
      " <head>\n",
      "  <title>\n",
      "   The story of Tom and Jerry\n",
      "  </title>\n",
      " </head>\n",
      " <body class=\"container\">\n",
      "  <h1>\n",
      "   Tom and Jerry\n",
      "  </h1>\n",
      "  &gt;\n",
      "  <img alt=\"cartoon_image\" height=\"300\" src=\"TomAndJerry.jpg\" width=\"300\"/>\n",
      "  <p class=\"comedy animated series\">\n",
      "   Tom and Jerry is an American animated series of comedy short films created by\n",
      "   <a class=\"creator\" href=\"https://en.wikipedia.org/wiki/William_Hanna\" id=\"link1\">\n",
      "    William Hanna\n",
      "   </a>\n",
      "   and\n",
      "   <a class=\"creator\" href=\"https://en.wikipedia.org/wiki/Joseph_Barbera\" id=\"link2\">\n",
      "    Joseph Barbera\n",
      "   </a>\n",
      "   . \n",
      "        It centers on a rivalry between the title characters\n",
      "   <a class=\"character\" href=\"https://en.wikipedia.org/wiki/Tom_Cat\" id=\"link3\">\n",
      "    Tom\n",
      "   </a>\n",
      "   , a cat, and\n",
      "   <a class=\"character\" href=\"https://en.wikipedia.org/wiki/Jerry_Mouse\" id=\"link4\">\n",
      "    Jerry\n",
      "   </a>\n",
      "   , a mouse.\n",
      "  </p>\n",
      "  <div>\n",
      "   <img alt=\"creator_image\" height=\"300\" name=\"William_Hanna\" src=\"https://upload.wikimedia.org/wikipedia/commons/d/d2/William_Hanna_1977.jpg\" width=\"300\"/>\n",
      "   <img alt=\"creator_image\" height=\"300\" name=\"Joseph_Barbera\" src=\"https://upload.wikimedia.org/wikipedia/commons/6/67/JBarbera.jpg\" width=\"300\"/>\n",
      "   <img src=\"https://upload.wikimedia.org/wikipedia/en/2/2f/Jerry_Mouse.png\"/>\n",
      "   <img extra-info=\"Tom_Cat\" src=\"https://upload.wikimedia.org/wikipedia/en/f/f6/Tom_Tom_and_Jerry.png\"/>\n",
      "  </div>\n",
      "  <p class=\"comedy story\">\n",
      "   <b>\n",
      "    The series features comic fights between an iconic pair of adversaries, \n",
      "                a house cat (Tom) and a mouse (Jerry). The plots of each short usually center on Tom's \n",
      "                numerous attempts to capture Jerry and the mayhem and destruction that follows. \n",
      "                Tom rarely succeeds in catching Jerry, mainly because of Jerry's cleverness, \n",
      "                cunning abilities, and luck.\n",
      "   </b>\n",
      "  </p>\n",
      "  <i>\n",
      "   Tom and Jerry show is a full length comedy show\n",
      "  </i>\n",
      " </body>\n",
      "</html>\n",
      "\n"
     ]
    }
   ],
   "source": [
    "print(soup.prettify())"
   ]
  },
  {
   "cell_type": "code",
   "execution_count": 51,
   "metadata": {},
   "outputs": [
    {
     "data": {
      "text/plain": [
       "<head>\n",
       "<title> The story of Tom and Jerry </title>\n",
       "</head>"
      ]
     },
     "execution_count": 51,
     "metadata": {},
     "output_type": "execute_result"
    }
   ],
   "source": [
    "soup.head"
   ]
  },
  {
   "cell_type": "code",
   "execution_count": 52,
   "metadata": {},
   "outputs": [
    {
     "data": {
      "text/plain": [
       "<img alt=\"cartoon_image\" height=\"300\" src=\"TomAndJerry.jpg\" width=\"300\"/>"
      ]
     },
     "execution_count": 52,
     "metadata": {},
     "output_type": "execute_result"
    }
   ],
   "source": [
    "soup.img"
   ]
  },
  {
   "cell_type": "code",
   "execution_count": 53,
   "metadata": {},
   "outputs": [
    {
     "data": {
      "text/plain": [
       "<div>\n",
       "<img alt=\"creator_image\" height=\"300\" name=\"William_Hanna\" src=\"https://upload.wikimedia.org/wikipedia/commons/d/d2/William_Hanna_1977.jpg\" width=\"300\"/>\n",
       "<img alt=\"creator_image\" height=\"300\" name=\"Joseph_Barbera\" src=\"https://upload.wikimedia.org/wikipedia/commons/6/67/JBarbera.jpg\" width=\"300\"/>\n",
       "<img src=\"https://upload.wikimedia.org/wikipedia/en/2/2f/Jerry_Mouse.png\"/>\n",
       "<img extra-info=\"Tom_Cat\" src=\"https://upload.wikimedia.org/wikipedia/en/f/f6/Tom_Tom_and_Jerry.png\"/>\n",
       "</div>"
      ]
     },
     "execution_count": 53,
     "metadata": {},
     "output_type": "execute_result"
    }
   ],
   "source": [
    "soup.div"
   ]
  },
  {
   "cell_type": "code",
   "execution_count": 54,
   "metadata": {},
   "outputs": [
    {
     "data": {
      "text/plain": [
       "<i>Tom and Jerry show is a full length comedy show</i>"
      ]
     },
     "execution_count": 54,
     "metadata": {},
     "output_type": "execute_result"
    }
   ],
   "source": [
    "soup.i"
   ]
  }
 ],
 "metadata": {
  "kernelspec": {
   "display_name": "Python 3 (ipykernel)",
   "language": "python",
   "name": "python3"
  },
  "language_info": {
   "codemirror_mode": {
    "name": "ipython",
    "version": 3
   },
   "file_extension": ".py",
   "mimetype": "text/x-python",
   "name": "python",
   "nbconvert_exporter": "python",
   "pygments_lexer": "ipython3",
   "version": "3.12.7"
  }
 },
 "nbformat": 4,
 "nbformat_minor": 4
}
