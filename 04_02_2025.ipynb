{
  "nbformat": 4,
  "nbformat_minor": 0,
  "metadata": {
    "colab": {
      "provenance": []
    },
    "kernelspec": {
      "name": "python3",
      "display_name": "Python 3"
    },
    "language_info": {
      "name": "python"
    }
  },
  "cells": [
    {
      "cell_type": "code",
      "execution_count": 1,
      "metadata": {
        "colab": {
          "base_uri": "https://localhost:8080/"
        },
        "id": "hHYx_1XFJYTT",
        "outputId": "19548fb0-f83a-48e3-e160-2d1813a027f4"
      },
      "outputs": [
        {
          "name": "stdout",
          "output_type": "stream",
          "text": [
            "This is a TEST Sentence\n"
          ]
        }
      ],
      "source": [
        "sentence = input()"
      ]
    },
    {
      "cell_type": "code",
      "source": [
        "sentence"
      ],
      "metadata": {
        "colab": {
          "base_uri": "https://localhost:8080/",
          "height": 35
        },
        "id": "JEjR1FtwJbWn",
        "outputId": "bebaac19-7745-49db-f48c-5a66b3d13e54"
      },
      "execution_count": 2,
      "outputs": [
        {
          "output_type": "execute_result",
          "data": {
            "text/plain": [
              "'This is a TEST Sentence'"
            ],
            "application/vnd.google.colaboratory.intrinsic+json": {
              "type": "string"
            }
          },
          "metadata": {},
          "execution_count": 2
        }
      ]
    },
    {
      "cell_type": "code",
      "source": [
        "exit_words = ['esc','quit','stop','exit']"
      ],
      "metadata": {
        "id": "nNqwpMS9J2e4"
      },
      "execution_count": 3,
      "outputs": []
    },
    {
      "cell_type": "code",
      "source": [
        "def lowercase(sent):\n",
        "  return sent.lower()"
      ],
      "metadata": {
        "id": "2_dwXbBRJ8PA"
      },
      "execution_count": 6,
      "outputs": []
    },
    {
      "cell_type": "code",
      "source": [
        "x = lowercase(sentence)"
      ],
      "metadata": {
        "id": "1Sd3tXL5KDeK"
      },
      "execution_count": 14,
      "outputs": []
    },
    {
      "cell_type": "code",
      "source": [
        "x"
      ],
      "metadata": {
        "colab": {
          "base_uri": "https://localhost:8080/",
          "height": 35
        },
        "id": "lKkIRpoeMKwL",
        "outputId": "e83ed794-b819-49d1-ce45-4c60cf4f3d73"
      },
      "execution_count": 15,
      "outputs": [
        {
          "output_type": "execute_result",
          "data": {
            "text/plain": [
              "'this is a test sentence'"
            ],
            "application/vnd.google.colaboratory.intrinsic+json": {
              "type": "string"
            }
          },
          "metadata": {},
          "execution_count": 15
        }
      ]
    },
    {
      "cell_type": "code",
      "source": [
        "def uppercase(sent):\n",
        "  return sent.upper()"
      ],
      "metadata": {
        "id": "1y3KmCN7KHO7"
      },
      "execution_count": 12,
      "outputs": []
    },
    {
      "cell_type": "code",
      "source": [
        "uppercase(sentence)"
      ],
      "metadata": {
        "colab": {
          "base_uri": "https://localhost:8080/",
          "height": 35
        },
        "id": "YQBCdisjLExu",
        "outputId": "7bc76243-8a41-4bfe-f85a-fd026b98c6e8"
      },
      "execution_count": 13,
      "outputs": [
        {
          "output_type": "execute_result",
          "data": {
            "text/plain": [
              "'THIS IS A TEST SENTENCE'"
            ],
            "application/vnd.google.colaboratory.intrinsic+json": {
              "type": "string"
            }
          },
          "metadata": {},
          "execution_count": 13
        }
      ]
    },
    {
      "cell_type": "code",
      "source": [
        "x = input()\n",
        "while x not in exit_words:\n",
        "  choice = input(\"give 1 or 2 option:\")\n",
        "  if choice == '1':\n",
        "    print(lowercase(x))\n",
        "  elif choice == '2':\n",
        "    print(uppercase(x))\n",
        "  else:\n",
        "    print(\"invalid choice\")\n",
        "  x = input()"
      ],
      "metadata": {
        "colab": {
          "base_uri": "https://localhost:8080/"
        },
        "id": "1Pag98eULH2r",
        "outputId": "c1dc5db8-5989-49bb-ef84-de8a136993b3"
      },
      "execution_count": 29,
      "outputs": [
        {
          "name": "stdout",
          "output_type": "stream",
          "text": [
            "Hello Python\n",
            "give 1 or 2 option:1\n",
            "hello python\n",
            "Hiiiii\n",
            "give 1 or 2 option:2\n",
            "HIIIII\n",
            "stop\n"
          ]
        }
      ]
    },
    {
      "cell_type": "code",
      "source": [
        "def swap_case(text):\n",
        "  return text.swapcase()\n",
        "x = input()\n",
        "swapped_text = swap_case(x)\n",
        "print(swapped_text)"
      ],
      "metadata": {
        "colab": {
          "base_uri": "https://localhost:8080/"
        },
        "id": "r5f83HdKMW-P",
        "outputId": "73f529a0-a538-4e49-f3bb-ba2f8aa5ddaf"
      },
      "execution_count": 32,
      "outputs": [
        {
          "output_type": "stream",
          "name": "stdout",
          "text": [
            "HELLO world\n",
            "hello WORLD\n"
          ]
        }
      ]
    },
    {
      "cell_type": "code",
      "source": [
        "x = input()\n",
        "while x not in exit_words:\n",
        "  choice = input(\"give 1, 2, or 3 as option:\")\n",
        "  if choice == '1':\n",
        "    print(lowercase(x))\n",
        "  elif choice == '2':\n",
        "    print(uppercase(x))\n",
        "  elif choice == '3':  # New option for swap_case\n",
        "    print(swap_case(x))\n",
        "  else:\n",
        "    print(\"invalid choice\")\n",
        "  x = input()"
      ],
      "metadata": {
        "colab": {
          "base_uri": "https://localhost:8080/"
        },
        "id": "MH6N8guIPenD",
        "outputId": "92d03536-9a57-4b40-fb81-23b92bff8c5b"
      },
      "execution_count": 34,
      "outputs": [
        {
          "name": "stdout",
          "output_type": "stream",
          "text": [
            "HEllo\n",
            "give 1, 2, or 3 as option:3\n",
            "heLLO\n",
            "HEllo\n",
            "give 1, 2, or 3 as option:1\n",
            "hello\n",
            "HEllo\n",
            "give 1, 2, or 3 as option:3\n",
            "heLLO\n",
            "HEllo\n",
            "give 1, 2, or 3 as option:2\n",
            "HELLO\n",
            "stop\n"
          ]
        }
      ]
    },
    {
      "cell_type": "code",
      "source": [
        "def reverse_string(text):\n",
        "    return text[::-1]\n",
        "x = input()\n",
        "print(reverse_string(x))"
      ],
      "metadata": {
        "colab": {
          "base_uri": "https://localhost:8080/"
        },
        "id": "aehVH5dxQCD2",
        "outputId": "8d8e8ac8-8299-4463-f3eb-18781c2aec48"
      },
      "execution_count": 39,
      "outputs": [
        {
          "output_type": "stream",
          "name": "stdout",
          "text": [
            "hello\n",
            "olleh\n"
          ]
        }
      ]
    },
    {
      "cell_type": "code",
      "source": [
        "x = input()\n",
        "while x not in exit_words:\n",
        "  choice = input(\"give 1, 2, 3, or 4 as option:\")\n",
        "  if choice == '1':\n",
        "    print(lowercase(x))\n",
        "  elif choice == '2':\n",
        "    print(uppercase(x))\n",
        "  elif choice == '3':\n",
        "    print(swap_case(x))\n",
        "  elif choice == '4':\n",
        "    print(reverse_string(x))\n",
        "  else:\n",
        "    print(\"invalid choice\")\n",
        "  x = input()"
      ],
      "metadata": {
        "colab": {
          "base_uri": "https://localhost:8080/"
        },
        "id": "4lCg-o9yQUtV",
        "outputId": "8fabed06-aa6e-4ab0-f8aa-d752ca406b50"
      },
      "execution_count": 40,
      "outputs": [
        {
          "name": "stdout",
          "output_type": "stream",
          "text": [
            "HelLo\n",
            "give 1, 2, 3, or 4 as option:4\n",
            "oLleH\n",
            "HelLo\n",
            "give 1, 2, 3, or 4 as option:3\n",
            "hELlO\n",
            "HelLo\n",
            "give 1, 2, 3, or 4 as option:2\n",
            "HELLO\n",
            "HelLo\n",
            "give 1, 2, 3, or 4 as option:1\n",
            "hello\n",
            "stop\n"
          ]
        }
      ]
    },
    {
      "cell_type": "code",
      "source": [
        "aku"
      ],
      "metadata": {
        "id": "Onff0d_pRELw"
      },
      "execution_count": null,
      "outputs": []
    }
  ]
}